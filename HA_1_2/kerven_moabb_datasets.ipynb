{
 "cells": [
  {
   "cell_type": "markdown",
   "id": "933450cc",
   "metadata": {},
   "source": [
    "### Note:"
   ]
  },
  {
   "cell_type": "markdown",
   "id": "58ca67de",
   "metadata": {},
   "source": [
    "For my diploma thesis I'm working on moabb datasets, that's why I chose this web page"
   ]
  },
  {
   "cell_type": "code",
   "execution_count": 1,
   "id": "04ca78c2",
   "metadata": {},
   "outputs": [],
   "source": [
    "import requests\n",
    "import json\n",
    "from bs4 import BeautifulSoup"
   ]
  },
  {
   "cell_type": "code",
   "execution_count": 2,
   "id": "b041988f",
   "metadata": {},
   "outputs": [],
   "source": [
    "resp = requests.get('http://moabb.neurotechx.com/docs/datasets.html')"
   ]
  },
  {
   "cell_type": "code",
   "execution_count": 3,
   "id": "130fa63e",
   "metadata": {},
   "outputs": [],
   "source": [
    "soup = BeautifulSoup(resp.text, 'html.parser')"
   ]
  },
  {
   "cell_type": "code",
   "execution_count": 4,
   "id": "852f5250",
   "metadata": {},
   "outputs": [],
   "source": [
    "webpage = soup.find_all('a')"
   ]
  },
  {
   "cell_type": "code",
   "execution_count": 5,
   "id": "e96c304d",
   "metadata": {},
   "outputs": [],
   "source": [
    "all_datasets_links = webpage[42:74]"
   ]
  },
  {
   "cell_type": "code",
   "execution_count": 6,
   "id": "0edbeff9",
   "metadata": {},
   "outputs": [
    {
     "data": {
      "text/plain": [
       "<a class=\"reference internal\" href=\"generated/moabb.datasets.Weibo2014.html#moabb.datasets.Weibo2014\" title=\"moabb.datasets.Weibo2014\"><code class=\"xref py py-obj docutils literal notranslate\"><span class=\"pre\">Weibo2014</span></code></a>"
      ]
     },
     "execution_count": 6,
     "metadata": {},
     "output_type": "execute_result"
    }
   ],
   "source": [
    "all_datasets_links.pop(16) # popping unrelated links"
   ]
  },
  {
   "cell_type": "code",
   "execution_count": 7,
   "id": "3464a9b9",
   "metadata": {},
   "outputs": [
    {
     "data": {
      "text/plain": [
       "<a class=\"reference internal\" href=\"generated/moabb.datasets.EPFLP300.html#moabb.datasets.EPFLP300\" title=\"moabb.datasets.EPFLP300\"><code class=\"xref py py-obj docutils literal notranslate\"><span class=\"pre\">EPFLP300</span></code></a>"
      ]
     },
     "execution_count": 7,
     "metadata": {},
     "output_type": "execute_result"
    }
   ],
   "source": [
    "all_datasets_links.pop(23) # popping unrelated links"
   ]
  },
  {
   "cell_type": "code",
   "execution_count": 8,
   "id": "c0e67262",
   "metadata": {},
   "outputs": [],
   "source": [
    "parts_of_links = [tag['href'] for tag in all_datasets_links]"
   ]
  },
  {
   "cell_type": "code",
   "execution_count": 9,
   "id": "7b68ca5e",
   "metadata": {},
   "outputs": [],
   "source": [
    "links = ['http://moabb.neurotechx.com/docs/'+link for link in parts_of_links]"
   ]
  },
  {
   "cell_type": "code",
   "execution_count": 10,
   "id": "408f9f96",
   "metadata": {},
   "outputs": [],
   "source": [
    "moabb_datasets_list = list()"
   ]
  },
  {
   "cell_type": "code",
   "execution_count": 11,
   "id": "820729fa",
   "metadata": {},
   "outputs": [
    {
     "name": "stdout",
     "output_type": "stream",
     "text": [
      "requesting page with URL: http://moabb.neurotechx.com/docs/#module-moabb.datasets\n",
      "adding data\n",
      "requesting page with URL: http://moabb.neurotechx.com/docs/#motor-imagery-datasets\n",
      "adding data\n",
      "requesting page with URL: http://moabb.neurotechx.com/docs/generated/moabb.datasets.AlexMI.html#moabb.datasets.AlexMI\n",
      "adding data\n",
      "requesting page with URL: http://moabb.neurotechx.com/docs/generated/moabb.datasets.BNCI2014001.html#moabb.datasets.BNCI2014001\n",
      "adding data\n",
      "requesting page with URL: http://moabb.neurotechx.com/docs/generated/moabb.datasets.BNCI2014002.html#moabb.datasets.BNCI2014002\n",
      "adding data\n",
      "requesting page with URL: http://moabb.neurotechx.com/docs/generated/moabb.datasets.BNCI2014004.html#moabb.datasets.BNCI2014004\n",
      "adding data\n",
      "requesting page with URL: http://moabb.neurotechx.com/docs/generated/moabb.datasets.BNCI2015001.html#moabb.datasets.BNCI2015001\n",
      "adding data\n",
      "requesting page with URL: http://moabb.neurotechx.com/docs/generated/moabb.datasets.BNCI2015004.html#moabb.datasets.BNCI2015004\n",
      "adding data\n",
      "requesting page with URL: http://moabb.neurotechx.com/docs/generated/moabb.datasets.Cho2017.html#moabb.datasets.Cho2017\n",
      "adding data\n",
      "requesting page with URL: http://moabb.neurotechx.com/docs/generated/moabb.datasets.Lee2019_MI.html#moabb.datasets.Lee2019_MI\n",
      "adding data\n",
      "requesting page with URL: http://moabb.neurotechx.com/docs/generated/moabb.datasets.MunichMI.html#moabb.datasets.MunichMI\n",
      "adding data\n",
      "requesting page with URL: http://moabb.neurotechx.com/docs/generated/moabb.datasets.Ofner2017.html#moabb.datasets.Ofner2017\n",
      "adding data\n",
      "requesting page with URL: http://moabb.neurotechx.com/docs/generated/moabb.datasets.PhysionetMI.html#moabb.datasets.PhysionetMI\n",
      "adding data\n",
      "requesting page with URL: http://moabb.neurotechx.com/docs/generated/moabb.datasets.Schirrmeister2017.html#moabb.datasets.Schirrmeister2017\n",
      "adding data\n",
      "requesting page with URL: http://moabb.neurotechx.com/docs/generated/moabb.datasets.Shin2017A.html#moabb.datasets.Shin2017A\n",
      "adding data\n",
      "requesting page with URL: http://moabb.neurotechx.com/docs/generated/moabb.datasets.Shin2017B.html#moabb.datasets.Shin2017B\n",
      "adding data\n",
      "requesting page with URL: http://moabb.neurotechx.com/docs/generated/moabb.datasets.Zhou2016.html#moabb.datasets.Zhou2016\n",
      "adding data\n",
      "requesting page with URL: http://moabb.neurotechx.com/docs/#erp-datasets\n",
      "adding data\n",
      "requesting page with URL: http://moabb.neurotechx.com/docs/generated/moabb.datasets.bi2013a.html#moabb.datasets.bi2013a\n",
      "adding data\n",
      "requesting page with URL: http://moabb.neurotechx.com/docs/generated/moabb.datasets.BNCI2014008.html#moabb.datasets.BNCI2014008\n",
      "adding data\n",
      "requesting page with URL: http://moabb.neurotechx.com/docs/generated/moabb.datasets.BNCI2014009.html#moabb.datasets.BNCI2014009\n",
      "adding data\n",
      "requesting page with URL: http://moabb.neurotechx.com/docs/generated/moabb.datasets.BNCI2015003.html#moabb.datasets.BNCI2015003\n",
      "adding data\n",
      "requesting page with URL: http://moabb.neurotechx.com/docs/generated/moabb.datasets.DemonsP300.html#moabb.datasets.DemonsP300\n",
      "adding data\n",
      "requesting page with URL: http://moabb.neurotechx.com/docs/generated/moabb.datasets.Lee2019_ERP.html#moabb.datasets.Lee2019_ERP\n",
      "adding data\n",
      "requesting page with URL: http://moabb.neurotechx.com/docs/#ssvep-datasets\n",
      "adding data\n",
      "requesting page with URL: http://moabb.neurotechx.com/docs/generated/moabb.datasets.SSVEPExo.html#moabb.datasets.SSVEPExo\n",
      "adding data\n",
      "requesting page with URL: http://moabb.neurotechx.com/docs/generated/moabb.datasets.Nakanishi2015.html#moabb.datasets.Nakanishi2015\n",
      "adding data\n",
      "requesting page with URL: http://moabb.neurotechx.com/docs/generated/moabb.datasets.Wang2016.html#moabb.datasets.Wang2016\n",
      "adding data\n",
      "requesting page with URL: http://moabb.neurotechx.com/docs/generated/moabb.datasets.MAMEM1.html#moabb.datasets.MAMEM1\n",
      "adding data\n",
      "requesting page with URL: http://moabb.neurotechx.com/docs/generated/moabb.datasets.MAMEM2.html#moabb.datasets.MAMEM2\n",
      "adding data\n"
     ]
    }
   ],
   "source": [
    "for link in links:\n",
    "    dataset = dict()\n",
    "    print('requesting page with URL: '+link)\n",
    "    dataset_page = requests.get(link)\n",
    "    dataset_soup = BeautifulSoup(dataset_page.text, 'html.parser')\n",
    "    dataset['Name of dataset'] = dataset_soup.title.string\n",
    "    text = dataset_soup.get_text().replace(\"\\n\", \"\")\n",
    "    if 'Dataset description' in text:\n",
    "        dataset['Dataset description'] = text[text.index('Dataset description') + len('Dataset description'): text.index('References')]\n",
    "    else:\n",
    "        dataset['Dataset description'] = None\n",
    "    if 'References' in text:\n",
    "        dataset['References'] = text[text.index('References') + len('References'): text.index('Methods')]\n",
    "    else:\n",
    "        dataset['References'] = None\n",
    "    if 'Methods' in text:\n",
    "        if 'Examples' in text:\n",
    "            dataset['Methods'] = text[text.index('Methods') + len('Methods'): text.index('Examples')]\n",
    "        else:\n",
    "            dataset['Methods'] = text[text.index('Methods') + len('Methods'): text.index('Back to top')]       \n",
    "    else:\n",
    "        dataset['Methods'] = None\n",
    "    if 'Examples' in text:\n",
    "        dataset['Examples'] = text[text.index('Examples'): text.index('Back to top')]\n",
    "    else:\n",
    "        dataset['Examples'] = None\n",
    "    dataset['url'] = link\n",
    "    print('adding data')\n",
    "    moabb_datasets_list.append(dataset)\n",
    "    "
   ]
  },
  {
   "cell_type": "code",
   "execution_count": 12,
   "id": "09db5a23",
   "metadata": {},
   "outputs": [],
   "source": [
    "for dictionary in moabb_datasets_list:\n",
    "    with open(\"moabb_datasets.json\", \"w\") as outfile:\n",
    "        json.dump(dictionary, outfile)        "
   ]
  },
  {
   "cell_type": "code",
   "execution_count": 13,
   "id": "c95b95fb",
   "metadata": {},
   "outputs": [],
   "source": [
    "%notebook kerven_moabb_datasets.ipynb"
   ]
  },
  {
   "cell_type": "code",
   "execution_count": null,
   "id": "88178915",
   "metadata": {},
   "outputs": [],
   "source": []
  }
 ],
 "metadata": {
  "kernelspec": {
   "display_name": "Python 3 (ipykernel)",
   "language": "python",
   "name": "python3"
  },
  "language_info": {
   "codemirror_mode": {
    "name": "ipython",
    "version": 3
   },
   "file_extension": ".py",
   "mimetype": "text/x-python",
   "name": "python",
   "nbconvert_exporter": "python",
   "pygments_lexer": "ipython3",
   "version": "3.9.5"
  }
 },
 "nbformat": 4,
 "nbformat_minor": 5
}
