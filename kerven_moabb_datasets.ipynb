{
 "cells": [
  {
   "cell_type": "code",
   "execution_count": 1,
   "id": "28860c8c",
   "metadata": {},
   "outputs": [],
   "source": [
    "import requests"
   ]
  },
  {
   "cell_type": "code",
   "execution_count": 2,
   "id": "1d1c9fea",
   "metadata": {},
   "outputs": [],
   "source": [
    "import json"
   ]
  },
  {
   "cell_type": "code",
   "execution_count": 3,
   "id": "3e96a252",
   "metadata": {},
   "outputs": [],
   "source": [
    "from bs4 import BeautifulSoup"
   ]
  },
  {
   "cell_type": "code",
   "execution_count": 4,
   "id": "b041988f",
   "metadata": {},
   "outputs": [],
   "source": [
    "resp = requests.get('http://moabb.neurotechx.com/docs/datasets.html')"
   ]
  },
  {
   "cell_type": "code",
   "execution_count": 5,
   "id": "130fa63e",
   "metadata": {},
   "outputs": [],
   "source": [
    "soup = BeautifulSoup(resp.text, 'html.parser')"
   ]
  },
  {
   "cell_type": "code",
   "execution_count": 6,
   "id": "852f5250",
   "metadata": {},
   "outputs": [],
   "source": [
    "webpage = soup.find_all('a')"
   ]
  },
  {
   "cell_type": "code",
   "execution_count": 7,
   "id": "e96c304d",
   "metadata": {},
   "outputs": [],
   "source": [
    "all_datasets_links = webpage[42:74]"
   ]
  },
  {
   "cell_type": "code",
   "execution_count": 8,
   "id": "0edbeff9",
   "metadata": {},
   "outputs": [],
   "source": [
    "all_datasets_links.pop(16) # popping unrelated links"
   ]
  },
  {
   "cell_type": "code",
   "execution_count": 9,
   "id": "3464a9b9",
   "metadata": {},
   "outputs": [],
   "source": [
    "all_datasets_links.pop(23) # popping unrelated links"
   ]
  },
  {
   "cell_type": "code",
   "execution_count": 10,
   "id": "c0e67262",
   "metadata": {},
   "outputs": [],
   "source": [
    "parts_of_links = [tag['href'] for tag in all_datasets_links]"
   ]
  },
  {
   "cell_type": "code",
   "execution_count": 11,
   "id": "7b68ca5e",
   "metadata": {},
   "outputs": [],
   "source": [
    "links = ['http://moabb.neurotechx.com/docs/'+link for link in parts_of_links]"
   ]
  },
  {
   "cell_type": "code",
   "execution_count": 12,
   "id": "408f9f96",
   "metadata": {},
   "outputs": [],
   "source": [
    "moabb_datasets = list()"
   ]
  },
  {
   "cell_type": "code",
   "execution_count": 13,
   "id": "820729fa",
   "metadata": {},
   "outputs": [],
   "source": [
    "for link in links:\n",
    "    dataset = dict()\n",
    "    print('requesting page with URL: '+link)\n",
    "    dataset_page = requests.get(link)\n",
    "    dataset_soup = BeautifulSoup(dataset_page.text, 'html.parser')\n",
    "    dataset['Name of dataset'] = dataset_soup.title.string\n",
    "    text = dataset_soup.get_text().replace(\"\\n\", \"\")\n",
    "    if 'Dataset description' in text:\n",
    "        dataset['Dataset description'] = text[text.index('Dataset description') + len('Dataset description'): text.index('References')]\n",
    "    else:\n",
    "        dataset['Dataset description'] = None\n",
    "    if 'References' in text:\n",
    "        dataset['References'] = text[text.index('References') + len('References'): text.index('Methods')]\n",
    "    else:\n",
    "        dataset['References'] = None\n",
    "    if 'Methods' in text:\n",
    "        if 'Examples' in text:\n",
    "            dataset['Methods'] = text[text.index('Methods') + len('Methods'): text.index('Examples')]\n",
    "        else:\n",
    "            dataset['Methods'] = text[text.index('Methods') + len('Methods'): text.index('Back to top')]       \n",
    "    else:\n",
    "        dataset['Methods'] = None\n",
    "    if 'Examples' in text:\n",
    "        dataset['Examples'] = text[text.index('Examples'): text.index('Back to top')]\n",
    "    else:\n",
    "        dataset['Examples'] = None\n",
    "    dataset['url'] = link\n",
    "    print('adding data')\n",
    "    moabb_datasets.append(dataset)\n",
    "    "
   ]
  },
  {
   "cell_type": "code",
   "execution_count": 14,
   "id": "09db5a23",
   "metadata": {},
   "outputs": [],
   "source": [
    "for dictionary in moabb_datasets:\n",
    "    with open(\"moabb_datasets.json\", \"w\") as outfile:\n",
    "        json.dump(dictionary, outfile)\n",
    "        "
   ]
  },
  {
   "cell_type": "code",
   "execution_count": 15,
   "id": "c95b95fb",
   "metadata": {},
   "outputs": [],
   "source": [
    "%notebook kerven_moabb_datasets.ipynb"
   ]
  },
  {
   "cell_type": "code",
   "execution_count": 16,
   "id": "d30a81c0",
   "metadata": {},
   "outputs": [],
   "source": [
    "%pip install nbformat"
   ]
  }
 ],
 "metadata": {},
 "nbformat": 4,
 "nbformat_minor": 5
}
